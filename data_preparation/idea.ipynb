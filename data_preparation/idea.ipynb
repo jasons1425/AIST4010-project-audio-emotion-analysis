{
 "cells": [
  {
   "cell_type": "markdown",
   "id": "8e2ddcf3",
   "metadata": {},
   "source": [
    "The following methods will be adopted and compared in this project:\n",
    "\n",
    "- Treat audio as images: convert audio to spectrogram (mel-spectrogram, power spectrogram etc), and forward to legacy CNNs for regression (1D or 2D)\n",
    "\n",
    "- Raw audio inputs: load the audio as waveform via torchaudio.load(), and forward to different model architectures (e.g. CNN, Attention etc) for training\n",
    "\n",
    "- Transfer learning: convert audio to embeddings via the PANN model (Large-Scale Pretrained Audio Neural Networks), and forward to different model architectures (e.g. BERT, Attention etc) for training"
   ]
  },
  {
   "cell_type": "code",
   "execution_count": 4,
   "id": "96a87102",
   "metadata": {},
   "outputs": [
    {
     "name": "stderr",
     "output_type": "stream",
     "text": [
      "D:\\venv\\python\\music-analysis\\lib\\site-packages\\librosa\\util\\decorators.py:88: UserWarning: PySoundFile failed. Trying audioread instead.\n",
      "  return f(*args, **kwargs)\n"
     ]
    },
    {
     "data": {
      "text/plain": [
       "(-1.4998639455782312,\n",
       " 31.497142857142855,\n",
       " -1.0996082484722138,\n",
       " 1.0996082484722138)"
      ]
     },
     "execution_count": 4,
     "metadata": {},
     "output_type": "execute_result"
    },
    {
     "data": {
      "image/png": "[encoded data removed]",
      "text/plain": [
       "<Figure size 864x576 with 1 Axes>"
      ]
     },
     "metadata": {
      "needs_background": "light"
     },
     "output_type": "display_data"
    }
   ],
   "source": [
    "import librosa\n",
    "import librosa.display as display\n",
    "import matplotlib.pyplot as plt\n",
    "import numpy as np\n",
    "\n",
    "SAMPLE_FILE = r\"D:\\Documents\\datasets\\AIST4010\\muse\\songs\\787Zn3STZNVI2q9DzKl9ka.mp3\"\n",
    "wavform, sr = librosa.load(SAMPLE_FILE, duration=30, mono=True)\n",
    "# wavform_harm, wavform_perc = librosa.effects.hpss(wavform)\n",
    "\n",
    "fig, axs = plt.subplots(1, 1, figsize=(12, 8))\n",
    "librosa.display.waveshow(y=wavform, sr=sr, ax=axs)\n",
    "# axs.set_title(\"wave plot\")\n",
    "axs.axis('off')\n",
    "# mel_spec = librosa.feature.melspectrogram(y=wavform, sr=sr)\n",
    "# powered_mel_spec = librosa.power_to_db(mel_spec, ref=np.max)\n",
    "# librosa.display.specshow(powered_mel_spec, ax=axs[1], cmap=\"viridis\")\n",
    "# axs[1].set_title(\"mel-spec\")\n",
    "# axs[1].axis('off')"
   ]
  },
  {
   "cell_type": "code",
   "execution_count": 17,
   "id": "dfefc137",
   "metadata": {},
   "outputs": [],
   "source": [
    "import glob\n",
    "import os\n",
    "import re\n",
    "from PIL import Image\n",
    "\n",
    "\n",
    "DATA_DIR = r\"D:\\Documents\\datasets\\AIST4010\\muse\"\n",
    "PNG_DIR = os.path.join(DATA_DIR, \"spectrograms\")\n",
    "SPEC_DIR = os.path.join(DATA_DIR, \"spectrograms_jpg\")\n",
    "songs_data_fp = os.path.join(DATA_DIR, \"extracted_data.csv\")\n",
    "\n",
    "\n",
    "PNG_FILES = glob.glob(os.path.join(PNG_DIR, '*'))\n",
    "JPG_FILES = glob.glob(os.path.join(SPEC_DIR, '*'))\n",
    "PNG_IDS = [re.match(r\".*\\\\([^\\.\\\\]*)\\.png\", fp).group(1) for fp in PNG_FILES]\n",
    "JPG_IDS = [re.match(r\".*\\\\([^\\.\\\\]*)\\.jpg\", fp).group(1) for fp in JPG_FILES]"
   ]
  },
  {
   "cell_type": "code",
   "execution_count": 15,
   "id": "49420153",
   "metadata": {},
   "outputs": [],
   "source": [
    "for fp in PNG_FILES[7350:]:\n",
    "    img_id = re.match(r\".*\\\\([^\\.\\\\]*)\\.png\", fp).group(1)\n",
    "    im1 = Image.open(fp).convert(\"RGB\")\n",
    "    im1.save(os.path.join(SPEC_DIR, img_id)+'.jpg')"
   ]
  },
  {
   "cell_type": "code",
   "execution_count": 19,
   "id": "2334417d",
   "metadata": {},
   "outputs": [],
   "source": [
    "for img_id in PNG_IDS:\n",
    "    assert img_id in JPG_IDS"
   ]
  },
  {
   "cell_type": "code",
   "execution_count": 21,
   "id": "2c1f74d5",
   "metadata": {},
   "outputs": [
    {
     "data": {
      "text/plain": [
       "(10000, 10000)"
      ]
     },
     "execution_count": 21,
     "metadata": {},
     "output_type": "execute_result"
    }
   ],
   "source": [
    "len(set(PNG_IDS)), len(set(JPG_IDS))"
   ]
  },
  {
   "cell_type": "code",
   "execution_count": 2,
   "id": "7e4439ae",
   "metadata": {},
   "outputs": [
    {
     "data": {
      "text/plain": [
       "array([0.05301074, 0.31244323, 0.4811889 , ..., 0.23341763, 0.2685385 ,\n",
       "       0.3104872 ], dtype=float32)"
      ]
     },
     "execution_count": 2,
     "metadata": {},
     "output_type": "execute_result"
    }
   ],
   "source": [
    "import numpy as np\n",
    "\n",
    "\n",
    "np.load(r\"D:\\Documents\\datasets\\AIST4010\\muse\\wavs\\000xQL6tZNLJzIrtIgxqSl.npy\")"
   ]
  },
  {
   "cell_type": "code",
   "execution_count": 69,
   "id": "1a4a0ced",
   "metadata": {},
   "outputs": [
    {
     "data": {
      "text/plain": [
       "tensor([[[ 0.0000,  0.0000,  0.0000,  ...,  1.0000,  1.0000,  1.0000],\n",
       "         [ 0.8415,  0.7617,  0.6816,  ...,  1.0000,  1.0000,  1.0000],\n",
       "         [ 0.9093,  0.9870,  0.9975,  ...,  1.0000,  1.0000,  1.0000],\n",
       "         ...,\n",
       "         [-0.6160,  0.9903, -0.4891,  ...,  0.9998,  0.9999,  0.9999],\n",
       "         [ 0.3300,  0.7475,  0.2366,  ...,  0.9998,  0.9999,  0.9999],\n",
       "         [ 0.9726, -0.0217,  0.8354,  ...,  0.9998,  0.9999,  0.9999]]])"
      ]
     },
     "execution_count": 69,
     "metadata": {},
     "output_type": "execute_result"
    }
   ],
   "source": [
    "import torch.nn as nn\n",
    "from positional_encodings import PositionalEncoding2D\n",
    "import torch\n",
    "\n",
    "p_enc = PositionalEncoding1D(128)\n",
    "z = torch.zeros(1, 128, 128)\n",
    "pz = p_enc(z)\n",
    "pz"
   ]
  },
  {
   "cell_type": "code",
   "execution_count": 55,
   "id": "b4a2101a",
   "metadata": {},
   "outputs": [
    {
     "data": {
      "text/plain": [
       "torch.Size([1, 128, 128])"
      ]
     },
     "execution_count": 55,
     "metadata": {},
     "output_type": "execute_result"
    }
   ],
   "source": []
  },
  {
   "cell_type": "code",
   "execution_count": 67,
   "id": "780eb982",
   "metadata": {},
   "outputs": [
    {
     "data": {
      "text/plain": [
       "tensor([[[ 0.0000,  0.0000,  0.0000,  ...,  1.0000,  1.0000,  1.0000],\n",
       "         [ 0.8415,  0.7617,  0.6816,  ...,  1.0000,  1.0000,  1.0000],\n",
       "         [ 0.9093,  0.9870,  0.9975,  ...,  1.0000,  1.0000,  1.0000],\n",
       "         ...,\n",
       "         [-0.6160,  0.9903, -0.4891,  ...,  0.9998,  0.9999,  0.9999],\n",
       "         [ 0.3300,  0.7475,  0.2366,  ...,  0.9998,  0.9999,  0.9999],\n",
       "         [ 0.9726, -0.0217,  0.8354,  ...,  0.9998,  0.9999,  0.9999]]])"
      ]
     },
     "execution_count": 67,
     "metadata": {},
     "output_type": "execute_result"
    }
   ],
   "source": [
    "pz"
   ]
  },
  {
   "cell_type": "code",
   "execution_count": null,
   "id": "fd880f07",
   "metadata": {},
   "outputs": [],
   "source": []
  },
  {
   "cell_type": "code",
   "execution_count": 88,
   "id": "9c2d8132",
   "metadata": {},
   "outputs": [],
   "source": [
    "import math\n",
    "import torch\n",
    "\n",
    "\n",
    "def positionalencoding1d(d_model, length):\n",
    "    \"\"\"\n",
    "    :param d_model: dimension of the model\n",
    "    :param length: length of positions\n",
    "    :return: length*d_model position matrix\n",
    "    \"\"\"\n",
    "    if d_model % 2 != 0:\n",
    "        raise ValueError(\"Cannot use sin/cos positional encoding with \"\n",
    "                         \"odd dim (got dim={:d})\".format(d_model))\n",
    "    pe = torch.zeros(length, d_model)\n",
    "    position = torch.arange(0, length).unsqueeze(1)\n",
    "    div_term = torch.exp((torch.arange(0, d_model, 2, dtype=torch.float) *\n",
    "                         -(math.log(10000.0) / d_model)))\n",
    "    pe[:, 0::2] = torch.sin(position.float() * div_term)\n",
    "    pe[:, 1::2] = torch.cos(position.float() * div_term)\n",
    "\n",
    "    return pe\n",
    "\n",
    "encodings = positionalencoding1d(128, 128)"
   ]
  },
  {
   "cell_type": "code",
   "execution_count": 74,
   "id": "408ad7d2",
   "metadata": {},
   "outputs": [],
   "source": [
    "data = torch.zeros(32, 3, 128, 128)"
   ]
  },
  {
   "cell_type": "code",
   "execution_count": 75,
   "id": "f6bc09ec",
   "metadata": {},
   "outputs": [
    {
     "data": {
      "text/plain": [
       "torch.Size([32, 3, 128, 128])"
      ]
     },
     "execution_count": 75,
     "metadata": {},
     "output_type": "execute_result"
    }
   ],
   "source": [
    "data.shape"
   ]
  },
  {
   "cell_type": "code",
   "execution_count": 98,
   "id": "2f77f976",
   "metadata": {},
   "outputs": [
    {
     "data": {
      "text/plain": [
       "torch.Size([32, 4, 128, 128])"
      ]
     },
     "execution_count": 98,
     "metadata": {},
     "output_type": "execute_result"
    }
   ],
   "source": [
    "torch.cat((encodings.repeat([32, 1, 1, 1]), data), dim=1).shape"
   ]
  },
  {
   "cell_type": "code",
   "execution_count": null,
   "id": "31b772c0",
   "metadata": {},
   "outputs": [],
   "source": []
  }
 ],
 "metadata": {
  "kernelspec": {
   "display_name": "music-analysis",
   "language": "python",
   "name": "music-analysis"
  },
  "language_info": {
   "codemirror_mode": {
    "name": "ipython",
    "version": 3
   },
   "file_extension": ".py",
   "mimetype": "text/x-python",
   "name": "python",
   "nbconvert_exporter": "python",
   "pygments_lexer": "ipython3",
   "version": "3.9.10"
  }
 },
 "nbformat": 4,
 "nbformat_minor": 5
}
