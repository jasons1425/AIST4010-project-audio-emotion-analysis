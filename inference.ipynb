{
 "cells": [
  {
   "cell_type": "markdown",
   "id": "a2f49a3b",
   "metadata": {},
   "source": [
    "## Spectrogram model Inference"
   ]
  },
  {
   "cell_type": "code",
   "execution_count": 1,
   "id": "c8435191",
   "metadata": {},
   "outputs": [
    {
     "name": "stdout",
     "output_type": "stream",
     "text": [
      "setting up model...\n",
      "done!\n"
     ]
    }
   ],
   "source": [
    "from data.load import load_imgs_png, get_loader, get_labels\n",
    "from data.preprocess import spectrum_transform\n",
    "from baseline.freqcnn.model import LargeConvSpecModel, LargeConvFEv1, LargeConvFEv3, LargeConvFEv7, \\\n",
    "    LargeConvFEv12, LargeConvFEv11\n",
    "from baseline.densenet.densenet import DenseNetSpecModel\n",
    "from audtorch.metrics.functional import pearsonr\n",
    "from torchvision.models import densenet121\n",
    "import torch.nn as nn\n",
    "import matplotlib.pyplot as plt\n",
    "import numpy as np\n",
    "import cv2\n",
    "import torch\n",
    "import os\n",
    "\n",
    "\n",
    "# model preparation\n",
    "print(\"setting up model...\")\n",
    "FC = [2048]\n",
    "DROPOUT, CLS_BASE = 0.5, -1\n",
    "# FE_MODEL, EMBEDDING_DIM = LargeConvFEv1, 101376  # embedding dim depends on fe_model\n",
    "# FE_MODEL, EMBEDDING_DIM = LargeConvFEv3, 26880      # embedding dim depends on fe_model\n",
    "# FE_MODEL, EMBEDDING_DIM = LargeConvFEv7, 23040     # embedding dim depends on fe_model\n",
    "# FE_MODEL, EMBEDDING_DIM = LargeConvFEv11, 4096    # embedding dim depends on fe_model\n",
    "FE_MODEL, EMBEDDING_DIM = LargeConvFEv12, 4096    # embedding dim depends on fe_model\n",
    "device = \"cuda\" if torch.cuda.is_available() else \"cpu\"\n",
    "val_model = LargeConvSpecModel(FE_MODEL, 3, 1, EMBEDDING_DIM,\n",
    "                               fcs=FC, dropout=DROPOUT).half().to(device)\n",
    "val_model_fp = os.path.join(os.getcwd(), \"baseline\", r\"results/valence/models/largeconv_valence0319.pth\")\n",
    "val_model.load_state_dict(torch.load(val_model_fp))\n",
    "val_model.eval()\n",
    "\n",
    "aro_model = LargeConvSpecModel(FE_MODEL, 3, 1, EMBEDDING_DIM,\n",
    "                               fcs=FC, dropout=DROPOUT).half().to(device)\n",
    "aro_model_fp = os.path.join(os.getcwd(), \"baseline\", r\"results/arousal/models/largeconv_arousal0152.pth\")\n",
    "aro_model.load_state_dict(torch.load(aro_model_fp))\n",
    "aro_model.eval()\n",
    "\n",
    "dom_model = LargeConvSpecModel(FE_MODEL, 3, 1, EMBEDDING_DIM,\n",
    "                               fcs=FC, dropout=DROPOUT).half().to(device)\n",
    "dom_model_fp = os.path.join(os.getcwd(), \"baseline\", r\"results/dominance/models/largeconv_dominance0167.pth\")\n",
    "dom_model.load_state_dict(torch.load(dom_model_fp))\n",
    "dom_model.eval()\n",
    "\n",
    "print('done!')"
   ]
  },
  {
   "cell_type": "code",
   "execution_count": 3,
   "id": "451d9385",
   "metadata": {},
   "outputs": [
    {
     "name": "stdout",
     "output_type": "stream",
     "text": [
      "Spectrogram Model prediction - valence is 0.6353    arousal is 0.5195    dominance is 0.6387\n"
     ]
    }
   ],
   "source": [
    "rick_spec_fp = r\"D:\\Documents\\datasets\\AIST4010\\muse\\4cOdK2wGLETKBW3PvgPWqT.png\"\n",
    "rick_spec = np.array(cv2.cvtColor(cv2.imread(rick_spec_fp), cv2.COLOR_BGR2RGB))\n",
    "trans = spectrum_transform(resize=128, norm=True, freq_mask=None, time_mask=None)\n",
    "trans_rick_spec = trans(rick_spec).unsqueeze(0).half().to(device)\n",
    "val_pred = val_model(trans_rick_spec).item()\n",
    "aro_pred = aro_model(trans_rick_spec).item()\n",
    "dom_pred = dom_model(trans_rick_spec).item()\n",
    "\n",
    "print(f\"Spectrogram Model prediction - valence is {val_pred:.4f}    arousal is {aro_pred:.4f}    dominance is {dom_pred:.4f}\")"
   ]
  },
  {
   "cell_type": "markdown",
   "id": "a58ed7c1",
   "metadata": {},
   "source": [
    "## PANN model Inference"
   ]
  },
  {
   "cell_type": "code",
   "execution_count": 1,
   "id": "cb15f6fe",
   "metadata": {
    "scrolled": true
   },
   "outputs": [
    {
     "name": "stdout",
     "output_type": "stream",
     "text": [
      "setting up model...\n"
     ]
    },
    {
     "data": {
      "text/plain": [
       "WaveNet(\n",
       "  (wavecnn): Wavegram_Cnn14(\n",
       "    (pre_conv0): Conv1d(1, 64, kernel_size=(11,), stride=(5,), padding=(5,), bias=False)\n",
       "    (pre_bn0): BatchNorm1d(64, eps=1e-05, momentum=0.1, affine=True, track_running_stats=True)\n",
       "    (pre_block1): ConvPreWavBlock(\n",
       "      (conv1): Conv1d(64, 64, kernel_size=(3,), stride=(1,), padding=(1,), bias=False)\n",
       "      (conv2): Conv1d(64, 64, kernel_size=(3,), stride=(1,), padding=(2,), dilation=(2,), bias=False)\n",
       "      (bn1): BatchNorm1d(64, eps=1e-05, momentum=0.1, affine=True, track_running_stats=True)\n",
       "      (bn2): BatchNorm1d(64, eps=1e-05, momentum=0.1, affine=True, track_running_stats=True)\n",
       "    )\n",
       "    (pre_block2): ConvPreWavBlock(\n",
       "      (conv1): Conv1d(64, 128, kernel_size=(3,), stride=(1,), padding=(1,), bias=False)\n",
       "      (conv2): Conv1d(128, 128, kernel_size=(3,), stride=(1,), padding=(2,), dilation=(2,), bias=False)\n",
       "      (bn1): BatchNorm1d(128, eps=1e-05, momentum=0.1, affine=True, track_running_stats=True)\n",
       "      (bn2): BatchNorm1d(128, eps=1e-05, momentum=0.1, affine=True, track_running_stats=True)\n",
       "    )\n",
       "    (pre_block3): ConvPreWavBlock(\n",
       "      (conv1): Conv1d(128, 128, kernel_size=(3,), stride=(1,), padding=(1,), bias=False)\n",
       "      (conv2): Conv1d(128, 128, kernel_size=(3,), stride=(1,), padding=(2,), dilation=(2,), bias=False)\n",
       "      (bn1): BatchNorm1d(128, eps=1e-05, momentum=0.1, affine=True, track_running_stats=True)\n",
       "      (bn2): BatchNorm1d(128, eps=1e-05, momentum=0.1, affine=True, track_running_stats=True)\n",
       "    )\n",
       "    (pre_block4): ConvBlock(\n",
       "      (conv1): Conv2d(4, 64, kernel_size=(3, 3), stride=(1, 1), padding=(1, 1), bias=False)\n",
       "      (conv2): Conv2d(64, 64, kernel_size=(3, 3), stride=(1, 1), padding=(1, 1), bias=False)\n",
       "      (bn1): BatchNorm2d(64, eps=1e-05, momentum=0.1, affine=True, track_running_stats=True)\n",
       "      (bn2): BatchNorm2d(64, eps=1e-05, momentum=0.1, affine=True, track_running_stats=True)\n",
       "    )\n",
       "    (spec_augmenter): SpecAugmentation(\n",
       "      (time_dropper): DropStripes()\n",
       "      (freq_dropper): DropStripes()\n",
       "    )\n",
       "    (bn0): BatchNorm2d(64, eps=1e-05, momentum=0.1, affine=True, track_running_stats=True)\n",
       "    (conv_block1): ConvBlock(\n",
       "      (conv1): Conv2d(1, 64, kernel_size=(3, 3), stride=(1, 1), padding=(1, 1), bias=False)\n",
       "      (conv2): Conv2d(64, 64, kernel_size=(3, 3), stride=(1, 1), padding=(1, 1), bias=False)\n",
       "      (bn1): BatchNorm2d(64, eps=1e-05, momentum=0.1, affine=True, track_running_stats=True)\n",
       "      (bn2): BatchNorm2d(64, eps=1e-05, momentum=0.1, affine=True, track_running_stats=True)\n",
       "    )\n",
       "    (conv_block2): ConvBlock(\n",
       "      (conv1): Conv2d(64, 128, kernel_size=(3, 3), stride=(1, 1), padding=(1, 1), bias=False)\n",
       "      (conv2): Conv2d(128, 128, kernel_size=(3, 3), stride=(1, 1), padding=(1, 1), bias=False)\n",
       "      (bn1): BatchNorm2d(128, eps=1e-05, momentum=0.1, affine=True, track_running_stats=True)\n",
       "      (bn2): BatchNorm2d(128, eps=1e-05, momentum=0.1, affine=True, track_running_stats=True)\n",
       "    )\n",
       "    (conv_block3): ConvBlock(\n",
       "      (conv1): Conv2d(128, 256, kernel_size=(3, 3), stride=(1, 1), padding=(1, 1), bias=False)\n",
       "      (conv2): Conv2d(256, 256, kernel_size=(3, 3), stride=(1, 1), padding=(1, 1), bias=False)\n",
       "      (bn1): BatchNorm2d(256, eps=1e-05, momentum=0.1, affine=True, track_running_stats=True)\n",
       "      (bn2): BatchNorm2d(256, eps=1e-05, momentum=0.1, affine=True, track_running_stats=True)\n",
       "    )\n",
       "    (conv_block4): ConvBlock(\n",
       "      (conv1): Conv2d(256, 512, kernel_size=(3, 3), stride=(1, 1), padding=(1, 1), bias=False)\n",
       "      (conv2): Conv2d(512, 512, kernel_size=(3, 3), stride=(1, 1), padding=(1, 1), bias=False)\n",
       "      (bn1): BatchNorm2d(512, eps=1e-05, momentum=0.1, affine=True, track_running_stats=True)\n",
       "      (bn2): BatchNorm2d(512, eps=1e-05, momentum=0.1, affine=True, track_running_stats=True)\n",
       "    )\n",
       "    (conv_block5): ConvBlock(\n",
       "      (conv1): Conv2d(512, 1024, kernel_size=(3, 3), stride=(1, 1), padding=(1, 1), bias=False)\n",
       "      (conv2): Conv2d(1024, 1024, kernel_size=(3, 3), stride=(1, 1), padding=(1, 1), bias=False)\n",
       "      (bn1): BatchNorm2d(1024, eps=1e-05, momentum=0.1, affine=True, track_running_stats=True)\n",
       "      (bn2): BatchNorm2d(1024, eps=1e-05, momentum=0.1, affine=True, track_running_stats=True)\n",
       "    )\n",
       "    (conv_block6): ConvBlock(\n",
       "      (conv1): Conv2d(1024, 2048, kernel_size=(3, 3), stride=(1, 1), padding=(1, 1), bias=False)\n",
       "      (conv2): Conv2d(2048, 2048, kernel_size=(3, 3), stride=(1, 1), padding=(1, 1), bias=False)\n",
       "      (bn1): BatchNorm2d(2048, eps=1e-05, momentum=0.1, affine=True, track_running_stats=True)\n",
       "      (bn2): BatchNorm2d(2048, eps=1e-05, momentum=0.1, affine=True, track_running_stats=True)\n",
       "    )\n",
       "    (fc1): Linear(in_features=2048, out_features=2048, bias=True)\n",
       "    (fc_audioset): Linear(in_features=2048, out_features=527, bias=True)\n",
       "  )\n",
       "  (classifier): Sequential(\n",
       "    (0): Linear(in_features=2048, out_features=2048, bias=True)\n",
       "    (1): ReLU()\n",
       "    (2): Dropout(p=0.5, inplace=False)\n",
       "    (3): Linear(in_features=2048, out_features=1, bias=True)\n",
       "  )\n",
       ")"
      ]
     },
     "execution_count": 1,
     "metadata": {},
     "output_type": "execute_result"
    }
   ],
   "source": [
    "from data.load import get_labels, get_wav_fp, WAV_DIR\n",
    "from data.dataset import LazyWavDataset\n",
    "from torch.utils.data import Dataset, DataLoader\n",
    "from audtorch.metrics.functional import pearsonr\n",
    "from PANN.model import WaveNet\n",
    "import torch.nn as nn\n",
    "import numpy as np\n",
    "import matplotlib.pyplot as plt\n",
    "import torch\n",
    "import os\n",
    "\n",
    "\n",
    "# model preparation\n",
    "print(\"setting up model...\")\n",
    "# model preparation\n",
    "sr = 22050\n",
    "wsize, hsize, mel_bins = 520, 320, 128\n",
    "fmin, fmax = 50, 8000\n",
    "# fcs, dropout, act = [1024, 1024], 0.5, nn.ReLU\n",
    "fcs, dropout, act = [2048], 0.5, nn.ReLU\n",
    "device = 'cuda' if torch.cuda.is_available() else 'cpu'\n",
    "freeze = 0\n",
    "val_model = WaveNet(1, 2048, sr=sr, wsize=wsize, hsize=hsize, mel_bins=mel_bins,\n",
    "                    fmin=fmin, fmax=fmax, fcs=fcs, dropout=dropout, act=act, freeze=freeze, \n",
    "                    checkpoint_fp=None).half().to(device)\n",
    "val_model_fp = os.path.join(os.getcwd(), \"PANN\", r\"results/valence/models/freeze_none_valmse=0304.pth\")\n",
    "val_model.load_state_dict(torch.load(val_model_fp))\n",
    "val_model.eval()\n",
    "\n",
    "aro_model = WaveNet(1, 2048, sr=sr, wsize=wsize, hsize=hsize, mel_bins=mel_bins,\n",
    "                    fmin=fmin, fmax=fmax, fcs=fcs, dropout=dropout, act=act, freeze=freeze, \n",
    "                    checkpoint_fp=None).half().to(device)\n",
    "aro_model_fp = os.path.join(os.getcwd(), \"PANN\", r\"results/arousal/models/freeze_none_valmse=0150.pth\")\n",
    "aro_model.load_state_dict(torch.load(aro_model_fp))\n",
    "aro_model.eval()\n",
    "\n",
    "dom_model = WaveNet(1, 2048, sr=sr, wsize=wsize, hsize=hsize, mel_bins=mel_bins,\n",
    "                    fmin=fmin, fmax=fmax, fcs=fcs, dropout=dropout, act=act, freeze=freeze, \n",
    "                    checkpoint_fp=None).half().to(device)\n",
    "dom_model_fp = os.path.join(os.getcwd(), \"PANN\", r\"results/dominance/models/freeze_none_valmse=0194.pth\")\n",
    "dom_model.load_state_dict(torch.load(dom_model_fp))\n",
    "dom_model.eval()"
   ]
  },
  {
   "cell_type": "code",
   "execution_count": 7,
   "id": "28760253",
   "metadata": {},
   "outputs": [
    {
     "name": "stdout",
     "output_type": "stream",
     "text": [
      "Waveform model prediction - valence is 0.6729    arousal is 0.5103    dominance is 0.5278\n"
     ]
    }
   ],
   "source": [
    "rick_wav_fp = r\"D:\\Documents\\datasets\\AIST4010\\muse\\4cOdK2wGLETKBW3PvgPWqT.npy\"\n",
    "rick_wav = torch.from_numpy(np.load(rick_wav_fp)).unsqueeze(0).half().to(device)\n",
    "\n",
    "val_pred = val_model(rick_wav).item()\n",
    "aro_pred = aro_model(rick_wav).item()\n",
    "dom_pred = dom_model(rick_wav).item()\n",
    "\n",
    "print(f\"Waveform model prediction - valence is {val_pred:.4f}    arousal is {aro_pred:.4f}    dominance is {dom_pred:.4f}\")"
   ]
  },
  {
   "cell_type": "code",
   "execution_count": null,
   "id": "b5244158",
   "metadata": {},
   "outputs": [],
   "source": []
  }
 ],
 "metadata": {
  "kernelspec": {
   "display_name": "music-analysis",
   "language": "python",
   "name": "music-analysis"
  },
  "language_info": {
   "codemirror_mode": {
    "name": "ipython",
    "version": 3
   },
   "file_extension": ".py",
   "mimetype": "text/x-python",
   "name": "python",
   "nbconvert_exporter": "python",
   "pygments_lexer": "ipython3",
   "version": "3.9.10"
  }
 },
 "nbformat": 4,
 "nbformat_minor": 5
}
